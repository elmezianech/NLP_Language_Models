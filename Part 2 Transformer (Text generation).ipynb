{
 "cells": [
  {
   "cell_type": "markdown",
   "id": "2124baec-d62e-4bd8-b2bd-7aa8495491b3",
   "metadata": {},
   "source": [
    "# Lab"
   ]
  },
  {
   "cell_type": "markdown",
   "id": "baa20767-a7fa-4882-a0d1-bde0589e6200",
   "metadata": {},
   "source": [
    "##### Objective : The main purpose behind this lab is to get familiar with NLP language models using Pytorch library.\r"
   ]
  },
  {
   "cell_type": "markdown",
   "id": "3c09e5a3-8380-4399-bbe7-0fb70465bf49",
   "metadata": {},
   "source": [
    "## Part 2 : Transformer (Text generation)"
   ]
  },
  {
   "cell_type": "code",
   "execution_count": 1,
   "id": "e176e4bc-6256-4a5c-92b4-4e424b619a6e",
   "metadata": {},
   "outputs": [],
   "source": [
    "import torch\n",
    "from transformers import GPT2Tokenizer, GPT2LMHeadModel\n",
    "import numpy as np\n",
    "\n",
    "import logging\n",
    "logging.getLogger().setLevel(logging.CRITICAL)\n",
    "\n",
    "import warnings\n",
    "warnings.filterwarnings('ignore')\n",
    "\n",
    "device = 'cpu'\n",
    "if torch.cuda.is_available():\n",
    "    device = 'cuda'"
   ]
  },
  {
   "cell_type": "code",
   "execution_count": 2,
   "id": "789848dd-7f44-4744-ad8d-3d220044f0de",
   "metadata": {},
   "outputs": [
    {
     "data": {
      "application/vnd.jupyter.widget-view+json": {
       "model_id": "5cfc3278cb24474ab243457eca37e6f8",
       "version_major": 2,
       "version_minor": 0
      },
      "text/plain": [
       "model.safetensors:   0%|          | 0.00/1.52G [00:00<?, ?B/s]"
      ]
     },
     "metadata": {},
     "output_type": "display_data"
    },
    {
     "data": {
      "application/vnd.jupyter.widget-view+json": {
       "model_id": "c8013f1b0cc04d99a6b6d6928da07cc3",
       "version_major": 2,
       "version_minor": 0
      },
      "text/plain": [
       "generation_config.json:   0%|          | 0.00/124 [00:00<?, ?B/s]"
      ]
     },
     "metadata": {},
     "output_type": "display_data"
    }
   ],
   "source": [
    "tokenizer = GPT2Tokenizer.from_pretrained('gpt2-medium')\n",
    "model = GPT2LMHeadModel.from_pretrained('gpt2-medium')\n",
    "model = model.to(device)"
   ]
  },
  {
   "cell_type": "code",
   "execution_count": 3,
   "id": "d09232eb-7ba4-4ca2-b588-fdc42a8571ea",
   "metadata": {},
   "outputs": [],
   "source": [
    "def choose_from_top(probs, n=5):\n",
    "    ind = np.argpartition(probs, -n)[-n:]\n",
    "    top_prob = probs[ind]\n",
    "    top_prob = top_prob / np.sum(top_prob) # Normalize\n",
    "    choice = np.random.choice(n, 1, p = top_prob)\n",
    "    token_id = ind[choice][0]\n",
    "    return int(token_id)"
   ]
  },
  {
   "cell_type": "markdown",
   "id": "4531a15a-994d-42d9-8c8e-809c4dbd5590",
   "metadata": {},
   "source": [
    "### Fine Tuning"
   ]
  },
  {
   "cell_type": "markdown",
   "id": "63204d84-1249-482a-a941-e50b700dbaa0",
   "metadata": {},
   "source": [
    "For fine-tuning the GPT2 model, I will use this Quotes dataset : https://www.kaggle.com/datasets/alihasnainch/quotes-dataset"
   ]
  },
  {
   "cell_type": "code",
   "execution_count": 18,
   "id": "0485bb1e-6cdf-4cf2-ad75-7a520fc0909b",
   "metadata": {},
   "outputs": [],
   "source": [
    "from torch.utils.data import Dataset\n",
    "from torch.utils.data import Dataset, DataLoader\n",
    "import os\n",
    "import json\n",
    "import csv\n",
    "\n",
    "class QuotesDataset(Dataset):\n",
    "    def __init__(self, quotes_dataset_path):\n",
    "        super().__init__()\n",
    "\n",
    "        self.quotes_list = []\n",
    "        self.end_of_text_token = tokenizer.eos_token  # Use the tokenizer's end of text token\n",
    "        \n",
    "        with open(quotes_dataset_path) as csv_file:\n",
    "            csv_reader = csv.reader(csv_file, delimiter=',')\n",
    "            next(csv_reader)  # Skip header row\n",
    "            for row in csv_reader:\n",
    "                quote_str = f\"QUOTE: {row[1]}{self.end_of_text_token}\"\n",
    "                self.quotes_list.append(quote_str)\n",
    "        \n",
    "    def __len__(self):\n",
    "        return len(self.quotes_list)\n",
    "\n",
    "    def __getitem__(self, item):\n",
    "        return self.quotes_list[item]\n",
    "\n",
    "quotes_dataset_path = 'Quotes_Dataset.csv'\n",
    "dataset = QuotesDataset(quotes_dataset_path)\n",
    "quote_loader = DataLoader(dataset, batch_size=1, shuffle=True)"
   ]
  },
  {
   "cell_type": "code",
   "execution_count": 19,
   "id": "ed879ec4-898b-4274-bc87-400990d8b2f9",
   "metadata": {},
   "outputs": [],
   "source": [
    "BATCH_SIZE = 16\n",
    "EPOCHS = 5\n",
    "LEARNING_RATE = 3e-5\n",
    "WARMUP_STEPS = 5000\n",
    "MAX_SEQ_LEN = 400\n",
    "from transformers import AdamW, get_linear_schedule_with_warmup\n",
    "\n",
    "device = 'cpu'\n",
    "if torch.cuda.is_available():\n",
    "    device = 'cuda'"
   ]
  },
  {
   "cell_type": "code",
   "execution_count": 20,
   "id": "e3ceaf46-b824-4e12-a17e-9e4dd4ae5565",
   "metadata": {},
   "outputs": [
    {
     "name": "stdout",
     "output_type": "stream",
     "text": [
      "EPOCH 0 started==============================\n",
      "EPOCH 1 started==============================\n",
      "EPOCH 2 started==============================\n",
      "EPOCH 3 started==============================\n",
      "EPOCH 4 started==============================\n"
     ]
    }
   ],
   "source": [
    "# Prepare the model and tokenizer\n",
    "model = GPT2LMHeadModel.from_pretrained('gpt2-medium').to(device)\n",
    "tokenizer = GPT2Tokenizer.from_pretrained('gpt2-medium')\n",
    "\n",
    "# Initialize the optimizer and scheduler\n",
    "optimizer = AdamW(model.parameters(), lr=LEARNING_RATE)\n",
    "scheduler = get_linear_schedule_with_warmup(optimizer, num_warmup_steps=WARMUP_STEPS, num_training_steps=-1)\n",
    "\n",
    "# Initialize variables for training\n",
    "proc_seq_count = 0\n",
    "sum_loss = 0.0\n",
    "batch_count = 0\n",
    "tmp_quotes_tens = None\n",
    "\n",
    "# Create directory to save models\n",
    "models_folder = \"trained_models\"\n",
    "if not os.path.exists(models_folder):\n",
    "    os.mkdir(models_folder)\n",
    "\n",
    "# Training loop\n",
    "for epoch in range(EPOCHS):\n",
    "    print(f\"EPOCH {epoch} started\" + '=' * 30)\n",
    "    \n",
    "    for idx, quote in enumerate(quote_loader):\n",
    "        \n",
    "        # Encode the quote and move it to the device\n",
    "        quote_tens = torch.tensor(tokenizer.encode(quote[0])).unsqueeze(0).to(device)\n",
    "        \n",
    "        # Skip sample if it is longer than MAX_SEQ_LEN\n",
    "        if quote_tens.size()[1] > MAX_SEQ_LEN:\n",
    "            continue\n",
    "        \n",
    "        # First quote sequence in the batch\n",
    "        if not torch.is_tensor(tmp_quotes_tens):\n",
    "            tmp_quotes_tens = quote_tens\n",
    "            continue\n",
    "        else:\n",
    "            # If the next quote doesn't fit, process the current sequence\n",
    "            if tmp_quotes_tens.size()[1] + quote_tens.size()[1] > MAX_SEQ_LEN:\n",
    "                work_quotes_tens = tmp_quotes_tens\n",
    "                tmp_quotes_tens = quote_tens\n",
    "            else:\n",
    "                # Add the quote to the current sequence\n",
    "                tmp_quotes_tens = torch.cat([tmp_quotes_tens, quote_tens[:, 1:]], dim=1)\n",
    "                continue\n",
    "        \n",
    "        # Forward pass through the model\n",
    "        outputs = model(work_quotes_tens, labels=work_quotes_tens)\n",
    "        loss, logits = outputs[:2]\n",
    "        loss.backward()\n",
    "        sum_loss += loss.detach().data\n",
    "        \n",
    "        proc_seq_count += 1\n",
    "        if proc_seq_count == BATCH_SIZE:\n",
    "            proc_seq_count = 0\n",
    "            batch_count += 1\n",
    "            optimizer.step()\n",
    "            scheduler.step()\n",
    "            optimizer.zero_grad()\n",
    "            model.zero_grad()\n",
    "\n",
    "        if batch_count == 100:\n",
    "            print(f\"sum loss {sum_loss}\")\n",
    "            batch_count = 0\n",
    "            sum_loss = 0.0\n",
    "    \n",
    "    # Save the model after each epoch\n",
    "    torch.save(model.state_dict(), os.path.join(models_folder, f\"gpt2_medium_quotes_{epoch}.pt\"))"
   ]
  },
  {
   "cell_type": "code",
   "execution_count": null,
   "id": "0b682a29-4692-46aa-958b-ff9567f9d6bb",
   "metadata": {},
   "outputs": [
    {
     "name": "stdout",
     "output_type": "stream",
     "text": [
      "WARNING:tensorflow:From C:\\Users\\admin\\AppData\\Local\\Programs\\Python\\Python310\\lib\\site-packages\\keras\\src\\losses.py:2976: The name tf.losses.sparse_softmax_cross_entropy is deprecated. Please use tf.compat.v1.losses.sparse_softmax_cross_entropy instead.\n",
      "\n"
     ]
    }
   ],
   "source": [
    "import os\n",
    "\n",
    "def choose_from_top(probs, n=5):\n",
    "    ind = np.argpartition(probs, -n)[-n:]\n",
    "    top_prob = probs[ind]\n",
    "    top_prob = top_prob / np.sum(top_prob)  # Normalize\n",
    "    choice = np.random.choice(n, 1, p=top_prob)\n",
    "    token_id = ind[choice][0]\n",
    "    return int(token_id)\n",
    "\n",
    "# Load the model\n",
    "MODEL_EPOCH = 4\n",
    "models_folder = \"trained_models\"\n",
    "model_path = os.path.join(models_folder, f\"gpt2_medium_quotes_{MODEL_EPOCH}.pt\")\n",
    "model.load_state_dict(torch.load(model_path))\n",
    "model.eval()\n",
    "\n",
    "# File path for generated quotes\n",
    "quotes_output_file_path = f'generated_{MODEL_EPOCH}.quotes'\n",
    "\n",
    "# Remove the output file if it already exists\n",
    "if os.path.exists(quotes_output_file_path):\n",
    "    os.remove(quotes_output_file_path)\n",
    "\n",
    "# Generate quotes\n",
    "with torch.no_grad():\n",
    "    for quote_idx in range(1000):\n",
    "        quote_finished = False\n",
    "\n",
    "        # Start with the \"QUOTE:\" prompt\n",
    "        cur_ids = torch.tensor(tokenizer.encode(\"QUOTE:\")).unsqueeze(0).to(device)\n",
    "\n",
    "        for i in range(100):\n",
    "            outputs = model(cur_ids, labels=cur_ids)\n",
    "            loss, logits = outputs[:2]\n",
    "            softmax_logits = torch.softmax(logits[0, -1], dim=0)  # Take the last predicted token\n",
    "            \n",
    "            if i < 3:\n",
    "                n = 20\n",
    "            else:\n",
    "                n = 3\n",
    "\n",
    "            # Randomly select the next word from the top n probabilities\n",
    "            next_token_id = choose_from_top(softmax_logits.to('cpu').numpy(), n=n)\n",
    "            cur_ids = torch.cat([cur_ids, torch.ones((1, 1)).long().to(device) * next_token_id], dim=1)  # Add the last word to the sequence\n",
    "\n",
    "            # Check if the generated token is the end-of-text token\n",
    "            if next_token_id in tokenizer.encode(tokenizer.eos_token):\n",
    "                quote_finished = True\n",
    "                break\n",
    "\n",
    "        if quote_finished:\n",
    "            output_list = list(cur_ids.squeeze().to('cpu').numpy())\n",
    "            output_text = tokenizer.decode(output_list)\n",
    "\n",
    "            with open(quotes_output_file_path, 'a') as f:\n",
    "                f.write(f\"{output_text} \\n\\n\")\n",
    "\n",
    "print(\"Quote generation complete.\")"
   ]
  },
  {
   "cell_type": "code",
   "execution_count": null,
   "id": "bea9e1e3-ac35-4adc-afbf-cdd3d585c5e8",
   "metadata": {},
   "outputs": [],
   "source": []
  }
 ],
 "metadata": {
  "kernelspec": {
   "display_name": "Python 3 (ipykernel)",
   "language": "python",
   "name": "python3"
  },
  "language_info": {
   "codemirror_mode": {
    "name": "ipython",
    "version": 3
   },
   "file_extension": ".py",
   "mimetype": "text/x-python",
   "name": "python",
   "nbconvert_exporter": "python",
   "pygments_lexer": "ipython3",
   "version": "3.10.0"
  }
 },
 "nbformat": 4,
 "nbformat_minor": 5
}
